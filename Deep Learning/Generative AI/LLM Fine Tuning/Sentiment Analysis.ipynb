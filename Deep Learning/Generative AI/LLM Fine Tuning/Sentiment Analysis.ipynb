{
 "cells": [
  {
   "cell_type": "code",
   "execution_count": 26,
   "id": "ab279bf9-debb-4a78-85e4-1fcf9d59e0f3",
   "metadata": {},
   "outputs": [],
   "source": [
    "from datasets import load_dataset\n",
    "from transformers import GPT2Tokenizer, GPT2ForSequenceClassification, TrainingArguments, Trainer\n",
    "import pandas as pd\n",
    "import evaluate\n",
    "import torch\n",
    "import numpy as np"
   ]
  },
  {
   "cell_type": "code",
   "execution_count": 27,
   "id": "7a611c79-cb28-4b5b-b945-52eb6d27136f",
   "metadata": {},
   "outputs": [
    {
     "data": {
      "text/plain": [
       "True"
      ]
     },
     "execution_count": 27,
     "metadata": {},
     "output_type": "execute_result"
    }
   ],
   "source": [
    "torch.cuda.is_available()"
   ]
  },
  {
   "cell_type": "code",
   "execution_count": 28,
   "id": "0d6d3290-db73-4538-abcb-19dcd8bbe28d",
   "metadata": {},
   "outputs": [],
   "source": [
    "torch.cuda.empty_cache()"
   ]
  },
  {
   "cell_type": "code",
   "execution_count": 29,
   "id": "ea64c653-c1b5-402a-9cef-8ce125347c35",
   "metadata": {},
   "outputs": [],
   "source": [
    "dataset = load_dataset(\"mteb/tweet_sentiment_extraction\")"
   ]
  },
  {
   "cell_type": "code",
   "execution_count": 30,
   "id": "3f321495-5a99-43a5-ae14-913c574887fd",
   "metadata": {},
   "outputs": [
    {
     "data": {
      "text/plain": [
       "DatasetDict({\n",
       "    train: Dataset({\n",
       "        features: ['id', 'text', 'label', 'label_text'],\n",
       "        num_rows: 27481\n",
       "    })\n",
       "    test: Dataset({\n",
       "        features: ['id', 'text', 'label', 'label_text'],\n",
       "        num_rows: 3534\n",
       "    })\n",
       "})"
      ]
     },
     "execution_count": 30,
     "metadata": {},
     "output_type": "execute_result"
    }
   ],
   "source": [
    "dataset"
   ]
  },
  {
   "cell_type": "code",
   "execution_count": 31,
   "id": "798431c2-092c-437e-99ac-e98ca5111634",
   "metadata": {},
   "outputs": [
    {
     "data": {
      "text/html": [
       "<div>\n",
       "<style scoped>\n",
       "    .dataframe tbody tr th:only-of-type {\n",
       "        vertical-align: middle;\n",
       "    }\n",
       "\n",
       "    .dataframe tbody tr th {\n",
       "        vertical-align: top;\n",
       "    }\n",
       "\n",
       "    .dataframe thead th {\n",
       "        text-align: right;\n",
       "    }\n",
       "</style>\n",
       "<table border=\"1\" class=\"dataframe\">\n",
       "  <thead>\n",
       "    <tr style=\"text-align: right;\">\n",
       "      <th></th>\n",
       "      <th>id</th>\n",
       "      <th>text</th>\n",
       "      <th>label</th>\n",
       "      <th>label_text</th>\n",
       "    </tr>\n",
       "  </thead>\n",
       "  <tbody>\n",
       "    <tr>\n",
       "      <th>0</th>\n",
       "      <td>cb774db0d1</td>\n",
       "      <td>I`d have responded, if I were going</td>\n",
       "      <td>1</td>\n",
       "      <td>neutral</td>\n",
       "    </tr>\n",
       "    <tr>\n",
       "      <th>1</th>\n",
       "      <td>549e992a42</td>\n",
       "      <td>Sooo SAD I will miss you here in San Diego!!!</td>\n",
       "      <td>0</td>\n",
       "      <td>negative</td>\n",
       "    </tr>\n",
       "    <tr>\n",
       "      <th>2</th>\n",
       "      <td>088c60f138</td>\n",
       "      <td>my boss is bullying me...</td>\n",
       "      <td>0</td>\n",
       "      <td>negative</td>\n",
       "    </tr>\n",
       "    <tr>\n",
       "      <th>3</th>\n",
       "      <td>9642c003ef</td>\n",
       "      <td>what interview! leave me alone</td>\n",
       "      <td>0</td>\n",
       "      <td>negative</td>\n",
       "    </tr>\n",
       "    <tr>\n",
       "      <th>4</th>\n",
       "      <td>358bd9e861</td>\n",
       "      <td>Sons of ****, why couldn`t they put them on t...</td>\n",
       "      <td>0</td>\n",
       "      <td>negative</td>\n",
       "    </tr>\n",
       "  </tbody>\n",
       "</table>\n",
       "</div>"
      ],
      "text/plain": [
       "           id                                               text  label  \\\n",
       "0  cb774db0d1                I`d have responded, if I were going      1   \n",
       "1  549e992a42      Sooo SAD I will miss you here in San Diego!!!      0   \n",
       "2  088c60f138                          my boss is bullying me...      0   \n",
       "3  9642c003ef                     what interview! leave me alone      0   \n",
       "4  358bd9e861   Sons of ****, why couldn`t they put them on t...      0   \n",
       "\n",
       "  label_text  \n",
       "0    neutral  \n",
       "1   negative  \n",
       "2   negative  \n",
       "3   negative  \n",
       "4   negative  "
      ]
     },
     "execution_count": 31,
     "metadata": {},
     "output_type": "execute_result"
    }
   ],
   "source": [
    "df = pd.DataFrame(dataset['train'])\n",
    "df.head()"
   ]
  },
  {
   "cell_type": "code",
   "execution_count": 32,
   "id": "e4c63776-ccb1-4d22-a0c6-3919d0ce069d",
   "metadata": {},
   "outputs": [],
   "source": [
    "tokenizer = GPT2Tokenizer.from_pretrained(\"gpt2\")\n",
    "tokenizer.pad_token = tokenizer.eos_token\n",
    "def tokenize_function(examples):\n",
    "    return tokenizer(examples[\"text\"], padding=\"max_length\", truncation=True)\n",
    "\n",
    "tokenized_datasets = dataset.map(tokenize_function, batched=True)"
   ]
  },
  {
   "cell_type": "code",
   "execution_count": 33,
   "id": "a90aa45d-f3c8-4c45-8a09-872e367e2ca3",
   "metadata": {},
   "outputs": [
    {
     "name": "stdout",
     "output_type": "stream",
     "text": [
      "DatasetDict({\n",
      "    train: Dataset({\n",
      "        features: ['id', 'text', 'label', 'label_text', 'input_ids', 'attention_mask'],\n",
      "        num_rows: 27481\n",
      "    })\n",
      "    test: Dataset({\n",
      "        features: ['id', 'text', 'label', 'label_text', 'input_ids', 'attention_mask'],\n",
      "        num_rows: 3534\n",
      "    })\n",
      "})\n"
     ]
    }
   ],
   "source": [
    "print(tokenized_datasets)"
   ]
  },
  {
   "cell_type": "code",
   "execution_count": 34,
   "id": "58c6721c-64f2-433d-beb5-27c9ce2721ad",
   "metadata": {},
   "outputs": [
    {
     "name": "stderr",
     "output_type": "stream",
     "text": [
      "Some weights of GPT2ForSequenceClassification were not initialized from the model checkpoint at gpt2 and are newly initialized: ['score.weight']\n",
      "You should probably TRAIN this model on a down-stream task to be able to use it for predictions and inference.\n"
     ]
    }
   ],
   "source": [
    "model = GPT2ForSequenceClassification.from_pretrained(\"gpt2\",num_labels=3)\n",
    "model.config.pad_token_id = tokenizer.pad_token_id"
   ]
  },
  {
   "cell_type": "code",
   "execution_count": null,
   "id": "0beb1580-4999-4bc7-9dd7-fef9b00ccbfc",
   "metadata": {},
   "outputs": [],
   "source": []
  },
  {
   "cell_type": "code",
   "execution_count": null,
   "id": "8c005e83-1f76-4d41-9996-63ebd30daa53",
   "metadata": {},
   "outputs": [],
   "source": []
  },
  {
   "cell_type": "code",
   "execution_count": null,
   "id": "ad855f11-b704-4376-b239-65c3277a58f2",
   "metadata": {},
   "outputs": [],
   "source": []
  },
  {
   "cell_type": "code",
   "execution_count": null,
   "id": "53c6f9be-c82c-41ea-9204-2c2f453842e6",
   "metadata": {},
   "outputs": [],
   "source": []
  },
  {
   "cell_type": "code",
   "execution_count": null,
   "id": "b03b448c-f1f0-4135-945c-3b9568feb016",
   "metadata": {},
   "outputs": [],
   "source": []
  },
  {
   "cell_type": "code",
   "execution_count": 35,
   "id": "970153a4-380e-4e5d-9076-7c3d057ea599",
   "metadata": {},
   "outputs": [],
   "source": [
    "# Load the evaluation dataset\n",
    "eval_dataset = tokenized_datasets[\"test\"]"
   ]
  },
  {
   "cell_type": "code",
   "execution_count": 36,
   "id": "6e61342f-d66e-4198-8a39-fd6601412364",
   "metadata": {},
   "outputs": [],
   "source": [
    "# Create a function to classify sentiment using the pretrained model\n",
    "def classify_sentiment_pretrained(tweets):\n",
    "    inputs = tokenizer(tweets, padding=True, truncation=True, return_tensors=\"pt\")\n",
    "    with torch.no_grad():\n",
    "        outputs = model(**inputs)\n",
    "    logits = outputs.logits\n",
    "    predictions = torch.argmax(logits, dim=-1)\n",
    "    return predictions"
   ]
  },
  {
   "cell_type": "code",
   "execution_count": 37,
   "id": "4349b97a-3ba0-4a66-8769-feb9b76b4f21",
   "metadata": {},
   "outputs": [],
   "source": [
    "# Classify sentiment of the evaluation dataset using the pretrained model\n",
    "predictions_pretrained = []\n",
    "for example in eval_dataset:\n",
    "    tweets = example[\"text\"]\n",
    "    sentiment_labels = classify_sentiment_pretrained(tweets)\n",
    "    predictions_pretrained.extend(sentiment_labels.cpu().numpy())"
   ]
  },
  {
   "cell_type": "code",
   "execution_count": 38,
   "id": "960765d5-59b4-4689-ba34-80b4e021b66d",
   "metadata": {},
   "outputs": [],
   "source": [
    "# Convert labels to numpy array\n",
    "labels_pretrained = np.array(eval_dataset[\"label\"])"
   ]
  },
  {
   "cell_type": "code",
   "execution_count": 39,
   "id": "4f07bddf-bafc-43fe-8824-d24d9efa5f2a",
   "metadata": {},
   "outputs": [
    {
     "name": "stdout",
     "output_type": "stream",
     "text": [
      "Accuracy of pretrained model: 0.28324844368986984\n"
     ]
    }
   ],
   "source": [
    "accuracy_pretrained = np.mean(predictions_pretrained == labels_pretrained)\n",
    "print(f\"Accuracy of pretrained model: {accuracy_pretrained}\")"
   ]
  },
  {
   "cell_type": "code",
   "execution_count": null,
   "id": "4336853b-58c9-480a-98c9-dcccb5062c42",
   "metadata": {},
   "outputs": [],
   "source": []
  },
  {
   "cell_type": "code",
   "execution_count": null,
   "id": "6a145e9b-5e78-4cb7-99f4-e03b8e2a4981",
   "metadata": {},
   "outputs": [],
   "source": []
  },
  {
   "cell_type": "code",
   "execution_count": null,
   "id": "345fed30-37ff-4c54-a6d4-ddfe650973e3",
   "metadata": {},
   "outputs": [],
   "source": []
  },
  {
   "cell_type": "code",
   "execution_count": null,
   "id": "29c3ec05-a207-41df-861d-2c213bd7cdcf",
   "metadata": {},
   "outputs": [],
   "source": []
  },
  {
   "cell_type": "code",
   "execution_count": null,
   "id": "f416ce37-90d1-43c6-90d4-d8eb6aff2fd1",
   "metadata": {},
   "outputs": [],
   "source": []
  },
  {
   "cell_type": "code",
   "execution_count": 21,
   "id": "0931b451-863c-483f-94c3-598df6d4491f",
   "metadata": {},
   "outputs": [],
   "source": [
    "tweets = [\n",
    "    \"I love this movie! It's fantastic.\",\n",
    "    \"This is the worst experience I've ever had.\",\n",
    "    \"It's okay, not the best but not the worst.\"\n",
    "]"
   ]
  },
  {
   "cell_type": "code",
   "execution_count": 11,
   "id": "afbbf75c-dbdc-4a04-8388-9442de8b61c5",
   "metadata": {},
   "outputs": [
    {
     "name": "stdout",
     "output_type": "stream",
     "text": [
      "Tweet: I love this movie! It's fantastic. => Sentiment: Negative\n",
      "Tweet: This is the worst experience I've ever had. => Sentiment: Negative\n",
      "Tweet: It's okay, not the best but not the worst. => Sentiment: Negative\n"
     ]
    }
   ],
   "source": [
    "def classify_sentiment(tweets):\n",
    "    inputs = tokenizer(tweets, padding=True, truncation=True, return_tensors=\"pt\")\n",
    "    with torch.no_grad():\n",
    "        outputs = model(**inputs)\n",
    "    logits = outputs.logits\n",
    "    predictions = torch.argmax(logits, dim=-1)\n",
    "    return predictions\n",
    "\n",
    "# Classify the sentiment of the tweets\n",
    "sentiment_labels = classify_sentiment(tweets)\n",
    "\n",
    "# Convert the numeric labels to human-readable form\n",
    "label_map = {0: \"Negative\", 1: \"Neutral\", 2: \"Positive\"}\n",
    "sentiments = [label_map[label.item()] for label in sentiment_labels]\n",
    "\n",
    "for tweet, sentiment in zip(tweets, sentiments):\n",
    "    print(f\"Tweet: {tweet} => Sentiment: {sentiment}\")"
   ]
  },
  {
   "cell_type": "code",
   "execution_count": 12,
   "id": "313e8e74-603e-419f-8f23-3c47f5c8ee73",
   "metadata": {},
   "outputs": [],
   "source": [
    "metric = evaluate.load(\"accuracy\")\n",
    "def compute_metrics(eval_pred):\n",
    "    logits, labels = eval_pred\n",
    "    predictions = np.argmax(logits, axis=-1)\n",
    "    return metric.compute(predictions=predictions, references=labels)"
   ]
  },
  {
   "cell_type": "code",
   "execution_count": 33,
   "id": "6b8239da-045d-44ab-9b73-f80c96fd43e1",
   "metadata": {},
   "outputs": [],
   "source": [
    "training_args = TrainingArguments(\n",
    "    output_dir=\"./results\",\n",
    "    eval_strategy=\"epoch\",\n",
    "    per_device_train_batch_size=1,\n",
    "    per_device_eval_batch_size=1,\n",
    "    gradient_accumulation_steps=4,\n",
    "    learning_rate=2e-5,\n",
    "    save_strategy='epoch',\n",
    "    load_best_model_at_end=True\n",
    ")"
   ]
  },
  {
   "cell_type": "code",
   "execution_count": 34,
   "id": "1a83c53c-f9e0-4888-85ab-72d9e482a808",
   "metadata": {},
   "outputs": [
    {
     "data": {
      "text/html": [
       "\n",
       "    <div>\n",
       "      \n",
       "      <progress value='20610' max='20610' style='width:300px; height:20px; vertical-align: middle;'></progress>\n",
       "      [20610/20610 4:15:00, Epoch 2/3]\n",
       "    </div>\n",
       "    <table border=\"1\" class=\"dataframe\">\n",
       "  <thead>\n",
       " <tr style=\"text-align: left;\">\n",
       "      <th>Epoch</th>\n",
       "      <th>Training Loss</th>\n",
       "      <th>Validation Loss</th>\n",
       "      <th>Accuracy</th>\n",
       "    </tr>\n",
       "  </thead>\n",
       "  <tbody>\n",
       "    <tr>\n",
       "      <td>0</td>\n",
       "      <td>0.572000</td>\n",
       "      <td>0.990268</td>\n",
       "      <td>0.788342</td>\n",
       "    </tr>\n",
       "    <tr>\n",
       "      <td>1</td>\n",
       "      <td>0.522400</td>\n",
       "      <td>0.975052</td>\n",
       "      <td>0.783531</td>\n",
       "    </tr>\n",
       "    <tr>\n",
       "      <td>2</td>\n",
       "      <td>0.525300</td>\n",
       "      <td>1.093050</td>\n",
       "      <td>0.795416</td>\n",
       "    </tr>\n",
       "  </tbody>\n",
       "</table><p>"
      ],
      "text/plain": [
       "<IPython.core.display.HTML object>"
      ]
     },
     "metadata": {},
     "output_type": "display_data"
    },
    {
     "data": {
      "text/plain": [
       "TrainOutput(global_step=20610, training_loss=0.5262602464138217, metrics={'train_runtime': 15301.0164, 'train_samples_per_second': 5.388, 'train_steps_per_second': 1.347, 'total_flos': 4.308299723833344e+16, 'train_loss': 0.5262602464138217, 'epoch': 2.999890833666897})"
      ]
     },
     "execution_count": 34,
     "metadata": {},
     "output_type": "execute_result"
    }
   ],
   "source": [
    "trainer = Trainer(\n",
    "    model=model,\n",
    "    args=training_args,\n",
    "    train_dataset=tokenized_datasets[\"train\"],\n",
    "    eval_dataset=tokenized_datasets[\"test\"],\n",
    "    compute_metrics=compute_metrics,\n",
    ")\n",
    "\n",
    "trainer.train()"
   ]
  },
  {
   "cell_type": "code",
   "execution_count": 35,
   "id": "4956453b-9c9c-493d-b67c-985098de549c",
   "metadata": {},
   "outputs": [
    {
     "data": {
      "text/html": [
       "\n",
       "    <div>\n",
       "      \n",
       "      <progress value='3534' max='3534' style='width:300px; height:20px; vertical-align: middle;'></progress>\n",
       "      [3534/3534 03:30]\n",
       "    </div>\n",
       "    "
      ],
      "text/plain": [
       "<IPython.core.display.HTML object>"
      ]
     },
     "metadata": {},
     "output_type": "display_data"
    },
    {
     "data": {
      "text/plain": [
       "{'eval_loss': 0.9750524759292603,\n",
       " 'eval_accuracy': 0.7835314091680815,\n",
       " 'eval_runtime': 210.6233,\n",
       " 'eval_samples_per_second': 16.779,\n",
       " 'eval_steps_per_second': 16.779,\n",
       " 'epoch': 2.999890833666897}"
      ]
     },
     "execution_count": 35,
     "metadata": {},
     "output_type": "execute_result"
    }
   ],
   "source": [
    "trainer.evaluate()"
   ]
  },
  {
   "cell_type": "code",
   "execution_count": 37,
   "id": "de33eb8f-3cae-4835-b5cc-e53a51b77545",
   "metadata": {},
   "outputs": [
    {
     "data": {
      "text/plain": [
       "('./model1\\\\tokenizer_config.json',\n",
       " './model1\\\\special_tokens_map.json',\n",
       " './model1\\\\vocab.json',\n",
       " './model1\\\\merges.txt',\n",
       " './model1\\\\added_tokens.json')"
      ]
     },
     "execution_count": 37,
     "metadata": {},
     "output_type": "execute_result"
    }
   ],
   "source": [
    "model.save_pretrained(\"./model1\")\n",
    "tokenizer.save_pretrained(\"./model1\")"
   ]
  },
  {
   "cell_type": "code",
   "execution_count": 38,
   "id": "27c3bf8f-94ef-46ab-86bf-7d8a8251407c",
   "metadata": {},
   "outputs": [],
   "source": [
    "loaded_tokenizer = GPT2Tokenizer.from_pretrained(\"./model1\")\n",
    "loaded_model = GPT2ForSequenceClassification.from_pretrained(\"./model1\")"
   ]
  },
  {
   "cell_type": "code",
   "execution_count": 40,
   "id": "71ede32c-f549-4762-a642-73ea4223123a",
   "metadata": {},
   "outputs": [
    {
     "name": "stdout",
     "output_type": "stream",
     "text": [
      "Tweet: I love this movie! It's fantastic. => Sentiment: Positive\n",
      "Tweet: This is the worst experience I've ever had. => Sentiment: Negative\n",
      "Tweet: It's okay, not the best but not the worst. => Sentiment: Neutral\n"
     ]
    }
   ],
   "source": [
    "def classify_sentiment(tweets):\n",
    "    inputs = loaded_tokenizer(tweets, padding=True, truncation=True, return_tensors=\"pt\")\n",
    "    with torch.no_grad():\n",
    "        outputs = loaded_model(**inputs)\n",
    "    logits = outputs.logits\n",
    "    predictions = torch.argmax(logits, dim=-1)\n",
    "    return predictions\n",
    "\n",
    "# Classify the sentiment of the tweets\n",
    "sentiment_labels = classify_sentiment(tweets)\n",
    "\n",
    "# Convert the numeric labels to human-readable form\n",
    "label_map = {0: \"Negative\", 1: \"Neutral\", 2: \"Positive\"}\n",
    "sentiments = [label_map[label.item()] for label in sentiment_labels]\n",
    "\n",
    "for tweet, sentiment in zip(tweets, sentiments):\n",
    "    print(f\"Tweet: {tweet} => Sentiment: {sentiment}\")"
   ]
  },
  {
   "cell_type": "code",
   "execution_count": null,
   "id": "c2a40b23-119a-4af8-930b-e641bdc20248",
   "metadata": {},
   "outputs": [],
   "source": []
  }
 ],
 "metadata": {
  "kernelspec": {
   "display_name": "Python 3 (ipykernel)",
   "language": "python",
   "name": "python3"
  },
  "language_info": {
   "codemirror_mode": {
    "name": "ipython",
    "version": 3
   },
   "file_extension": ".py",
   "mimetype": "text/x-python",
   "name": "python",
   "nbconvert_exporter": "python",
   "pygments_lexer": "ipython3",
   "version": "3.12.3"
  }
 },
 "nbformat": 4,
 "nbformat_minor": 5
}
